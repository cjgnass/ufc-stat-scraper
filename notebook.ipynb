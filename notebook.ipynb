{
 "cells": [
  {
   "cell_type": "code",
   "execution_count": null,
   "id": "212c2ed5",
   "metadata": {},
   "outputs": [],
   "source": [
    "import pandas as pd \n",
    "import json \n",
    "import os \n",
    "\n",
    "folder_path = 'events'  \n",
    "fight_rows = []\n",
    "\n",
    "# Loop through all JSON files\n",
    "for filename in os.listdir(folder_path):\n",
    "    if filename.endswith('.json'):\n",
    "        with open(os.path.join(folder_path, filename), 'r') as f:\n",
    "            data = json.load(f)\n",
    "\n",
    "        date = data.get(\"date\")\n",
    "        event = data.get(\"event\")\n",
    "\n",
    "        for key, fight in data.items():\n",
    "            if isinstance(fight, dict) and 'fighter1' in fight and 'fighter2' in fight:\n",
    "                f1_data = fight.get('fighter1_fight_data') or {}\n",
    "                f2_data = fight.get('fighter2_fight_data') or {}\n",
    "\n",
    "                row = {\n",
    "                    'event': event,\n",
    "                    'date': date,\n",
    "                    'fight_name': fight.get('name'),\n",
    "                    'f1': fight.get('fighter1'),\n",
    "                    'f2': fight.get('fighter2'),\n",
    "                    'winner': fight.get('winner'),\n",
    "                    'method': fight.get('method'),\n",
    "                    'fight_length': fight.get('fight_length'),\n",
    "                    'score': fight.get('score'),\n",
    "                }\n",
    "\n",
    "                # Add all fighter1 stats with prefix f1_\n",
    "                for stat, value in f1_data.items():\n",
    "                    row[f'f1_{stat}'] = value\n",
    "\n",
    "                # Add all fighter2 stats with prefix f2_\n",
    "                for stat, value in f2_data.items():\n",
    "                    row[f'f2_{stat}'] = value\n",
    "\n",
    "                fight_rows.append(row)\n",
    "\n",
    "# Create DataFrame\n",
    "df = pd.DataFrame(fight_rows)\n",
    "\n",
    "df.to_csv('ufc_fights.csv', index=False)\n"
   ]
  }
 ],
 "metadata": {
  "kernelspec": {
   "display_name": "env",
   "language": "python",
   "name": "python3"
  },
  "language_info": {
   "name": "python",
   "version": "3.13.2"
  }
 },
 "nbformat": 4,
 "nbformat_minor": 5
}
